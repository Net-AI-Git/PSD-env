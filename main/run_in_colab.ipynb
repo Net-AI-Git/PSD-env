{
  "cells": [
    {
      "cell_type": "markdown",
      "metadata": {
        "id": "V9Iy0WZ2fPKQ"
      },
      "source": [
        "# PSD Envelope Optimization on GPU with Colab (Improved Version)\n",
        "\n",
        "This notebook automates running the PSD optimization project from GitHub on a Colab GPU.\n",
        "\n",
        "This version incorporates a multi-step, verbose process to ensure clarity and correctness, including repository cleanup, branch selection, and directory navigation.\n",
        "\n",
        "**Instructions:**\n",
        "1.  Ensure your Colab runtime is set to use a GPU (`Runtime` -> `Change runtime type` -> `T4 GPU`).\n",
        "2.  Run the cells below in order.\n"
      ]
    },
    {
      "cell_type": "code",
      "execution_count": null,
      "metadata": {
        "id": "qg-vxzSQfPKV"
      },
      "outputs": [],
      "source": [
        "#@title Step 1: Clone Repository & Switch to Correct Branch\n",
        "\n",
        "# --- 1.1: Clean up previous runs and clone the repository ---\n",
        "print(\"--> Step 1.1: Cloning repository...\")\n",
        "!rm -rf PSD-env\n",
        "!git clone https://github.com/Net-AI-Git/PSD-env.git\n",
        "print(\"--> Repository cloned.\")\n",
        "\n",
        "# --- 1.2: Navigate into the repository and switch to the GPU branch ---\n",
        "print(\"\\n--> Step 1.2: Switching to 'test-GPU' branch...\")\n",
        "%cd /content/PSD-env\n",
        "!git checkout test_GPU\n",
        "print(\"--> Successfully switched to 'test_GPU' branch.\")\n"
      ]
    },
    {
      "cell_type": "code",
      "execution_count": null,
      "metadata": {
        "id": "d1rxuvGsfPKZ"
      },
      "outputs": [],
      "source": [
        "#@title Step 2: Navigate to Project Directory & Verify Files\n",
        "\n",
        "# --- 2.1: Navigate into the correct sub-directory where the code resides ---\n",
        "print(\"\\n--> Step 2.1: Navigating into the 'main' project folder...\")\n",
        "%cd main\n",
        "print(\"--> Directory changed successfully.\")\n",
        "\n",
        "# --- 2.2: Verify that the main script and requirements file are present ---\n",
        "print(\"\\n--> Step 2.2: Verifying contents...\")\n",
        "!ls -F\n",
        "print(\"\\n--> Verification complete. 'run_code_gpu.py' and 'requirements.txt' should be listed above.\")\n"
      ]
    },
    {
      "cell_type": "code",
      "execution_count": null,
      "metadata": {
        "id": "sqDz0LfsfPKc"
      },
      "outputs": [],
      "source": [
        "#@title Step 3: Install Dependencies\n",
        "print(\"\\n--> Step 3: Installing dependencies from requirements.txt...\")\n",
        "!pip install -r requirements.txt\n",
        "print(\"\\n--> Dependencies installed successfully.\")\n"
      ]
    },
    {
      "cell_type": "code",
      "execution_count": null,
      "metadata": {
        "id": "55BeTTGzfPKe"
      },
      "outputs": [],
      "source": [
        "#@title Step 4: Run the Optimization Algorithm\n",
        "print(\"\\n--> Step 4: Starting the optimization algorithm...\")\n",
        "!python run_code_gpu.py\n",
        "print(\"\\n--> Algorithm execution finished.\")\n"
      ]
    }
  ],
  "metadata": {
    "colab": {
      "provenance": []
    },
    "language_info": {
      "name": "python"
    }
  },
  "nbformat": 4,
  "nbformat_minor": 0
}
